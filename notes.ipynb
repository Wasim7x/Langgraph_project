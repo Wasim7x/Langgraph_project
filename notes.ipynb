{
 "cells": [
  {
   "cell_type": "markdown",
   "id": "f2a09031",
   "metadata": {},
   "source": [
    "- __init__ is use to convert that folder into packege so that we can extract the data from tham.\n",
    "- those thigs are appere at forntend are writen in config file\n"
   ]
  },
  {
   "cell_type": "markdown",
   "id": "dc368e96",
   "metadata": {},
   "source": [
    "- <b>.ini </b>-> similar to ymal, but in .ini file we write as simple text.\n"
   ]
  },
  {
   "cell_type": "markdown",
   "id": "5122e27d",
   "metadata": {},
   "source": []
  }
 ],
 "metadata": {
  "language_info": {
   "name": "python"
  }
 },
 "nbformat": 4,
 "nbformat_minor": 5
}
