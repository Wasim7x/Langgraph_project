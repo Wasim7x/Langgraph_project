{
 "cells": [
  {
   "cell_type": "markdown",
   "id": "f2a09031",
   "metadata": {},
   "source": [
    "- __init__ is use to convert that folder into packege so that we can extract the data from tham."
   ]
  },
  {
   "cell_type": "markdown",
   "id": "dc368e96",
   "metadata": {},
   "source": []
  }
 ],
 "metadata": {
  "language_info": {
   "name": "python"
  }
 },
 "nbformat": 4,
 "nbformat_minor": 5
}
